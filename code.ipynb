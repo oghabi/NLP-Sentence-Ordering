{
 "cells": [
  {
   "cell_type": "markdown",
   "metadata": {},
   "source": [
    "<!---\n",
    "Latex Macros\n",
    "-->\n",
    "$$\n",
    "\\newcommand{\\bar}{\\,|\\,}\n",
    "\\newcommand{\\Xs}{\\mathcal{X}}\n",
    "\\newcommand{\\Ys}{\\mathcal{Y}}\n",
    "\\newcommand{\\y}{\\mathbf{y}}\n",
    "\\newcommand{\\weights}{\\mathbf{w}}\n",
    "\\newcommand{\\balpha}{\\boldsymbol{\\alpha}}\n",
    "\\newcommand{\\bbeta}{\\boldsymbol{\\beta}}\n",
    "\\newcommand{\\aligns}{\\mathbf{a}}\n",
    "\\newcommand{\\align}{a}\n",
    "\\newcommand{\\source}{\\mathbf{s}}\n",
    "\\newcommand{\\target}{\\mathbf{t}}\n",
    "\\newcommand{\\ssource}{s}\n",
    "\\newcommand{\\starget}{t}\n",
    "\\newcommand{\\repr}{\\mathbf{f}}\n",
    "\\newcommand{\\repry}{\\mathbf{g}}\n",
    "\\newcommand{\\x}{\\mathbf{x}}\n",
    "\\newcommand{\\prob}{p}\n",
    "\\newcommand{\\vocab}{V}\n",
    "\\newcommand{\\params}{\\boldsymbol{\\theta}}\n",
    "\\newcommand{\\param}{\\theta}\n",
    "\\DeclareMathOperator{\\perplexity}{PP}\n",
    "\\DeclareMathOperator{\\argmax}{argmax}\n",
    "\\DeclareMathOperator{\\argmin}{argmin}\n",
    "\\newcommand{\\train}{\\mathcal{D}}\n",
    "\\newcommand{\\counts}[2]{\\#_{#1}(#2) }\n",
    "\\newcommand{\\length}[1]{\\text{length}(#1) }\n",
    "\\newcommand{\\indi}{\\mathbb{I}}\n",
    "$$"
   ]
  },
  {
   "cell_type": "markdown",
   "metadata": {},
   "source": [
    "# Assignment 3"
   ]
  },
  {
   "cell_type": "markdown",
   "metadata": {},
   "source": [
    "## Introduction\n",
    "\n",
    "In the last assignment, you will apply deep learning methods to solve a particular story understanding problem. Automatic understanding of stories is an important task in natural language understanding [[1]](http://anthology.aclweb.org/D/D13/D13-1020.pdf). Specifically, you will develop a model that given a sequence of sentences learns to sort these sentence in order to yield a coherent story [[2]](https://www.microsoft.com/en-us/research/wp-content/uploads/2016/06/short-commonsense-stories.pdf). This sounds (and to an extent is) trivial for humans, however it is quite a difficult task for machines as it involves commonsense knowledge and temporal understanding."
   ]
  },
  {
   "cell_type": "markdown",
   "metadata": {},
   "source": [
    "## Goal\n",
    "\n",
    "You are given a dataset of 45502 instances, each consisting of 5 sentences. Your system needs to ouput a sequence of numbers which represent the predicted order of these sentences. For example, given a story:\n",
    "\n",
    "    He went to the store.\n",
    "    He found a lamp he liked.\n",
    "    He bought the lamp.\n",
    "    Jan decided to get a new lamp.\n",
    "    Jan's lamp broke.\n",
    "\n",
    "your system needs to provide an answer in the following form:\n",
    "\n",
    "    2\t3\t4\t1\t0\n",
    "\n",
    "where the numbers correspond to the zero-based index of each sentence in the correctly ordered story. So \"`2`\" for \"`He went to the store.`\" means that this sentence should come 3rd in the correctly ordered target story. In this particular example, this order of indices corresponds to the following target story:\n",
    "\n",
    "    Jan's lamp broke.\n",
    "    Jan decided to get a new lamp.\n",
    "    He went to the store.\n",
    "    He found a lamp he liked.\n",
    "    He bought the lamp."
   ]
  },
  {
   "cell_type": "markdown",
   "metadata": {},
   "source": [
    "## Resources\n",
    "\n",
    "To develop your model(s), we provide a training and a development datasets. The test dataset will be held out, and we will use it to evaluate your models. The test set is coming from the same task distribution, and you don't need to expect drastic changes in it.\n",
    "\n",
    "You will use [TensorFlow](https://www.tensorflow.org/) to build a deep learning model for the task. We provide a very crude system which solves the task with a low accuracy, and a set of additional functions you will have to use to save and load the model you create so that we can run it.\n",
    "\n",
    "As we have to run the notebooks of each submission, and as deep learning models take long time to train, your notebook **NEEDS** to conform to the following requirements:\n",
    "* You **NEED** to run your parameter optimisation offline, and provide your final model saved by using the provided function\n",
    "* The maximum size of a zip file you can upload to moodle is 160MB. We will **NOT** allow submissions larger than that.\n",
    "* We do not have time to train your models from scratch! You **NEED** to provide the full code you used for the training of your model, but by all means you **CANNOT** call the training method in the notebook you will send to us.\n",
    "* We will run these notebooks automatically. If your notebook runs the training procedure, in addition to loading the model, and we need to edit your code to stop the training, you will be penalised with **-20 points**.\n",
    "* If you do not provide a pretrained model, and rely on training your model on our machines, you will get **0 points**.\n",
    "* Your submissions will be tested on the stat-nlp-book Docker image to ensure that it does not have any dependencies outside of those that we provide. If your submission fails to adhere to this requirement, you will get **0 points**.\n",
    "\n",
    "Running time and memory issues:\n",
    "* We have tested a possible solution on a mid-2014 MacBook Pro, and a few epochs of the model run in less than 3min. Thus it is possible to train a model on the data in reasonable time. However, be aware that you will need to run these models many times over, for a larger number of epochs (more elaborate models, trained on much larger datasets can train for weeks! However, this shouldn't be the case here.). If you find training times too long for your development cycle you can reduce the training set size. Once you have found a good solution you can increase the size again. Caveat: model parameters tuned on a smaller dataset may not be optimal for a larger training set.\n",
    "* In addition to this, as your submission is capped by size, feel free to experiment with different model sizes, numeric values of different precisions, filtering the vocabulary size, downscaling some vectors, etc."
   ]
  },
  {
   "cell_type": "markdown",
   "metadata": {},
   "source": [
    "## Hints\n",
    "\n",
    "A non-exhaustive list of things you might want to give a try:\n",
    "- better tokenization\n",
    "- experiment with pre-trained word representations such as [word2vec](https://code.google.com/archive/p/word2vec/), or [GloVe](http://nlp.stanford.edu/projects/glove/). Be aware that these representations might take a lot of parameters in your model. Be sure you use only the words you expect in the training/dev set and account for OOV words. When saving the model parameters, pre-rained word embeddings can simply be used in the word embedding matrix of your model. As said, make sure that this word embedding matrix does not contain all of word2vec or GloVe. Your submission is limited, and we will not allow uploading nor using the whole representations set (up to 3GB!)\n",
    "- reduced sizes of word representations\n",
    "- bucketing and batching (our implementation is deliberately not a good one!)\n",
    "  - make sure to draw random batches from the data! (we do not provide this in our code!)\n",
    "- better models:\n",
    "  - stacked RNNs (see tf.contrib.rnn.MultiRNNCell)\n",
    "  - bi-directional RNNs\n",
    "  - attention\n",
    "  - word-by-word attention\n",
    "  - conditional encoding\n",
    "  - get model inspirations from papers on [nlp.stanford.edu/projects/snli/](nlp.stanford.edu/projects/snli/)\n",
    "  - sequence-to-sequence encoder-decode architecture for producing the right ordering\n",
    "- better training procedure:\n",
    "  - different training algorithms\n",
    "  - dropout on the input and output embeddings (see tf.nn.dropout)\n",
    "  - L2 regularization (see tf.nn.l2_loss)\n",
    "  - gradient clipping (see tf.clip_by_value or tf.clip_by_norm)\n",
    "- model selection:\n",
    "  - early stopping\n",
    "- hyper-parameter optimization (e.g. random search or grid search (expensive!))\n",
    "    - initial learning rate\n",
    "    - dropout probability\n",
    "    - input and output size\n",
    "    - L2 regularization\n",
    "    - gradient clipping value\n",
    "    - batch size\n",
    "    - ...\n",
    "- post-processing\n",
    "  - for incorporating consistency constraints"
   ]
  },
  {
   "cell_type": "markdown",
   "metadata": {},
   "source": [
    "## Setup Instructions\n",
    "It is important that this file is placed in the **correct directory**. It will not run otherwise. The correct directory is\n",
    "\n",
    "    DIRECTORY_OF_YOUR_BOOK/assignments/2017/assignment3/problem/group_X/\n",
    "    \n",
    "where `DIRECTORY_OF_YOUR_BOOK` is a placeholder for the directory you downloaded the book to, and in `X` in `group_X` contains the number of your group.\n",
    "\n",
    "After you placed it there, **rename the notebook file** to `group_X.ipynb`.\n",
    "\n",
    "The notebook is pre-set to save models in\n",
    "\n",
    "    DIRECTORY_OF_YOUR_BOOK/assignments/2017/assignment3/problem/group_X/model/\n",
    "\n",
    "Be sure not to tinker with that directory - we expect your submission to contain a `model` subdirectory with a single saved model! \n",
    "The saving procedure might overwrite the latest save, or not. Make sure you understand what it does, and upload only a single model! (for more details check tf.train.Saver)"
   ]
  },
  {
   "cell_type": "markdown",
   "metadata": {},
   "source": [
    "## General Instructions\n",
    "This notebook will be used by you to provide your solution, and by us to both assess your solution and enter your marks. It contains three types of sections:\n",
    "\n",
    "1. **Setup** Sections: these sections set up code and resources for assessment. **Do not edit, move nor copy these cells**.\n",
    "2. **Assessment** Sections: these sections are used for both evaluating the output of your code, and for markers to enter their marks. **Do not edit, move, nor copy these cells**.\n",
    "3. **Task** Sections: these sections require your solutions. They may contain stub code, and you are expected to edit this code. For free text answers simply edit the markdown field.  \n",
    "\n",
    "**If you edit, move or copy any of the setup, assessments and mark cells, you will be penalised with -20 points**.\n",
    "\n",
    "Note that you are free to **create additional notebook cells** within a task section. \n",
    "\n",
    "Please **do not share** this assignment nor the dataset publicly, by uploading it online, emailing it to friends etc."
   ]
  },
  {
   "cell_type": "markdown",
   "metadata": {},
   "source": [
    "## Submission Instructions\n",
    "\n",
    "To submit your solution:\n",
    "\n",
    "* Make sure that your solution is fully contained in this notebook. Make sure you do not use any additional files other than your saved model.\n",
    "* Make sure that your solution runs linearly from start to end (no execution hops). We will run your notebook in that order.\n",
    "* **Before you submit, make sure your submission is tested on the stat-nlp-book Docker setup to ensure that it does not have any dependencies outside of those that we provide. If your submission fails to adhere to this requirement, you will get 0 points**.\n",
    "* **If running your notebook produces a trivially fixable error that we spot, we will correct it and penalise you with -20 points. Otherwise you will get 0 points for that solution.**\n",
    "* **Rename this notebook to your `group_X`** (where `X` is the number of your group), and adhere to the directory structure requirements, if you have not already done so. ** Failure to do so will result in -1 point.**\n",
    "* Download the notebook in Jupyter via *File -> Download as -> Notebook (.ipynb)*.\n",
    "* Your submission should be a zip file containing the `group_X` directory, containing `group_X.ipynb` notebook, and the `model` directory with the saved model\n",
    "* Upload that file to the Moodle submission site."
   ]
  },
  {
   "cell_type": "markdown",
   "metadata": {},
   "source": [
    "## <font color='green'>Setup 1</font>: Load Libraries\n",
    "This cell loads libraries important for evaluation and assessment of your model. **Do not change, move or copy it.**"
   ]
  },
  {
   "cell_type": "code",
   "execution_count": 1,
   "metadata": {
    "ExecuteTime": {
     "end_time": "2016-12-20T12:04:56.249298",
     "start_time": "2016-12-20T12:04:54.376398"
    },
    "collapsed": true,
    "run_control": {
     "frozen": false,
     "read_only": false
    }
   },
   "outputs": [],
   "source": [
    "%%capture\n",
    "%load_ext autoreload\n",
    "%autoreload 2\n",
    "%matplotlib inline\n",
    "#! SETUP 1 - DO NOT CHANGE, MOVE NOR COPY\n",
    "import sys, os\n",
    "_snlp_book_dir = \"../../../../../\"\n",
    "sys.path.append(_snlp_book_dir)\n",
    "# docker image contains tensorflow 0.10.0rc0. We will support execution of only that version!\n",
    "import statnlpbook.nn as nn\n",
    "\n",
    "import tensorflow as tf\n",
    "import numpy as np"
   ]
  },
  {
   "cell_type": "markdown",
   "metadata": {},
   "source": [
    "## <font color='green'>Setup 2</font>: Load Training Data\n",
    "\n",
    "This cell loads the training data. **Do not edit the next cell, nor copy/duplicate it**. Instead refer to the variables in your own code, and slice and dice them as you see fit (but do not change their values). \n",
    "For example, no one stops you from introducing, in the corresponding task section, `my_train` and `my_dev` variables that split the data into different folds.   "
   ]
  },
  {
   "cell_type": "code",
   "execution_count": 2,
   "metadata": {
    "ExecuteTime": {
     "end_time": "2016-12-20T12:04:57.110195",
     "start_time": "2016-12-20T12:04:56.251082"
    },
    "collapsed": true,
    "run_control": {
     "frozen": false,
     "read_only": false
    }
   },
   "outputs": [],
   "source": [
    "#! SETUP 2 - DO NOT CHANGE, MOVE NOR COPY\n",
    "data_path = _snlp_book_dir + \"data/nn/\"\n",
    "data_train = nn.load_corpus(data_path + \"train.tsv\")\n",
    "data_dev = nn.load_corpus(data_path + \"dev.tsv\")\n",
    "assert(len(data_train) == 45502)"
   ]
  },
  {
   "cell_type": "markdown",
   "metadata": {},
   "source": [
    "### Data Structures\n",
    "\n",
    "Notice that the data is loaded from tab-separated files. The files are easy to read, and we provide the loading functions that load it into a simple data structure. Feel free to check details of the loading.\n",
    "\n",
    "The data structure at hand is an array of dictionaries, each containing a `story` and the `order` entry. `story` is a list of strings, and `order` is a list of integer indices:"
   ]
  },
  {
   "cell_type": "code",
   "execution_count": 3,
   "metadata": {
    "ExecuteTime": {
     "end_time": "2016-12-20T12:04:57.134033",
     "start_time": "2016-12-20T12:04:57.115270"
    },
    "run_control": {
     "frozen": false,
     "read_only": false
    }
   },
   "outputs": [
    {
     "data": {
      "text/plain": [
       "{'order': [3, 2, 1, 0, 4],\n",
       " 'story': ['His parents understood and decided to make a change.',\n",
       "  'The doctors told his parents it was unhealthy.',\n",
       "  'Dan was overweight as well.',\n",
       "  \"Dan's parents were overweight.\",\n",
       "  'They got themselves and Dan on a diet.']}"
      ]
     },
     "execution_count": 3,
     "metadata": {},
     "output_type": "execute_result"
    }
   ],
   "source": [
    "data_train[0]"
   ]
  },
  {
   "cell_type": "markdown",
   "metadata": {},
   "source": [
    "## <font color='blue'>Task 1</font>: Model implementation\n",
    "\n",
    "Your primary task in this assignment is to implement a model that produces the right order of the sentences in the dataset.\n",
    "\n",
    "### Preprocessing pipeline\n",
    "\n",
    "First, we construct a preprocessing pipeline, in our case `pipeline` function which takes care of:\n",
    "- out-of-vocabulary words\n",
    "- building a vocabulary (on the train set), and applying the same unaltered vocabulary on other sets (dev and test)\n",
    "- making sure that the length of input is the same for the train and dev/test sets (for fixed-sized models)\n",
    "\n",
    "You are free (and encouraged!) to do your own input processing function. Should you experiment with recurrent neural networks, you will find that you will need to do so."
   ]
  },
  {
   "cell_type": "markdown",
   "metadata": {},
   "source": [
    "<font color='RED'><strong>TOKENIZATION</strong></font>"
   ]
  },
  {
   "cell_type": "code",
   "execution_count": 4,
   "metadata": {
    "collapsed": true
   },
   "outputs": [],
   "source": [
    "import re\n",
    "\n",
    "class MacIntyreContractions:\n",
    "    \"\"\"\n",
    "    List of contractions adapted from Robert MacIntyre's tokenizer.\n",
    "    \"\"\"\n",
    "    CONTRACTIONS2 = [r\"(?i)\\b(d)(?#X)('ye)\\b\",\n",
    "                     # r\"(?i)\\b(gim)(?#X)(me)\\b\",\n",
    "                     # r\"(?i)\\b(gon)(?#X)(na)\\b\",\n",
    "                     # r\"(?i)\\b(can)(?#X)(not)\\b\",\n",
    "                     # r\"(?i)\\b(got)(?#X)(ta)\\b\",\n",
    "                     # r\"(?i)\\b(lem)(?#X)(me)\\b\",\n",
    "                     r\"(?i)\\b(mor)(?#X)('n)\\b\"]\n",
    "    CONTRACTIONS3 = [r\"(?i) ('t)(?#X)(is)\\b\", r\"(?i) ('t)(?#X)(was)\\b\"]\n",
    "    CONTRACTIONS4 = [r\"(?i)\\b(whad)(dd)(ya)\\b\",\n",
    "                     r\"(?i)\\b(wha)(t)(cha)\\b\"]\n",
    "\n",
    "class TreebankWordTokenizer():\n",
    "\n",
    "    #starting quotes\n",
    "    STARTING_QUOTES = [\n",
    "        (re.compile(r'^\\\"'), r'``'),\n",
    "        (re.compile(r'(``)'), r' \\1 '),\n",
    "        (re.compile(r'([ (\\[{<])\"'), r'\\1 `` '),\n",
    "    ]\n",
    "\n",
    "    #punctuation\n",
    "    PUNCTUATION = [\n",
    "        (re.compile(r'([:,])([^\\d])'), r' \\1 \\2'),\n",
    "        (re.compile(r'([:,])$'), r' \\1 '),\n",
    "        (re.compile(r'\\.\\.\\.'), r' ... '),\n",
    "        (re.compile(r'[;@#$%&]'), r' \\g<0> '),\n",
    "        (re.compile(r'([^\\.])(\\.)([\\]\\)}>\"\\']*)\\s*$'), r'\\1 \\2\\3 '), # Handles the final period.\n",
    "        (re.compile(r'[?!]'), r' \\g<0> '),\n",
    "\n",
    "        (re.compile(r\"([^'])' \"), r\"\\1 ' \"),\n",
    "    ]\n",
    "    TIME = [(re.compile(r'([0-9]*[0-9])*:[0-5][0-9]*(a|p|A|P)(m|M)'), r'\\1 \\2\\3')]\n",
    "    # Pads parentheses\n",
    "    PARENS_BRACKETS = (re.compile(r'[\\]\\[\\(\\)\\{\\}\\<\\>]'), r' \\g<0> ')\n",
    "\n",
    "    # Optionally: Convert parentheses, brackets and converts them to PTB symbols.\n",
    "    CONVERT_PARENTHESES = [\n",
    "        (re.compile(r'\\('), '-LRB-'), (re.compile(r'\\)'), '-RRB-'),\n",
    "        (re.compile(r'\\['), '-LSB-'), (re.compile(r'\\]'), '-RSB-'),\n",
    "        (re.compile(r'\\{'), '-LCB-'), (re.compile(r'\\}'), '-RCB-')\n",
    "    ]\n",
    "\n",
    "    DOUBLE_DASHES = (re.compile(r'--'), r' -- ')\n",
    "\n",
    "    #ending quotes\n",
    "    ENDING_QUOTES = [\n",
    "        (re.compile(r'\"'), \" '' \"),\n",
    "        (re.compile(r'(\\S)(\\'\\')'), r'\\1 \\2 '),\n",
    "        (re.compile(r\"([^' ])('[sS]|'[mM]|'[dD]|') \"), r\"\\1 \\2 \"),\n",
    "        (re.compile(r\"([^' ])('ll|'LL|'re|'RE|'ve|'VE|n't|N'T) \"), r\"\\1 \\2 \"),\n",
    "    ]\n",
    "\n",
    "    # List of contractions adapted from Robert MacIntyre's tokenizer.\n",
    "    _contractions = MacIntyreContractions()\n",
    "    CONTRACTIONS2 = list(map(re.compile, _contractions.CONTRACTIONS2))\n",
    "    CONTRACTIONS3 = list(map(re.compile, _contractions.CONTRACTIONS3))\n",
    "\n",
    "    def tokenize(self, text, convert_parentheses=False, return_str=False):\n",
    "        for regexp, substitution in self.STARTING_QUOTES:\n",
    "            text = regexp.sub(substitution, text)\n",
    "\n",
    "        for regexp, substitution in self.PUNCTUATION:\n",
    "            text = regexp.sub(substitution, text)\n",
    "        for regexp, subtitution in self.TIME:\n",
    "            text = regexp.sub(subtitution,text)\n",
    "            \n",
    "        # Handles parentheses.\n",
    "        regexp, substitution = self.PARENS_BRACKETS\n",
    "        text = regexp.sub(substitution, text)\n",
    "        # Optionally convert parentheses\n",
    "        if convert_parentheses:\n",
    "            for regexp, substitution in self.CONVERT_PARENTHESES:\n",
    "                text = regexp.sub(substitution, text)\n",
    "\n",
    "        # Handles double dash.\n",
    "        regexp, substitution = self.DOUBLE_DASHES\n",
    "        text = regexp.sub(substitution, text)\n",
    "\n",
    "        #add extra space to make things easier\n",
    "        text = \" \" + text + \" \"\n",
    "\n",
    "        for regexp, substitution in self.ENDING_QUOTES:\n",
    "            text = regexp.sub(substitution, text)\n",
    "\n",
    "        for regexp in self.CONTRACTIONS2:\n",
    "            text = regexp.sub(r' \\1 \\2 ', text)\n",
    "        for regexp in self.CONTRACTIONS3:\n",
    "            text = regexp.sub(r' \\1 \\2 ', text)\n",
    "\n",
    "        # We are not using CONTRACTIONS4 since\n",
    "        # they are also commented out in the SED scripts\n",
    "        # for regexp in self._contractions.CONTRACTIONS4:\n",
    "        #     text = regexp.sub(r' \\1 \\2 \\3 ', text)\n",
    "\n",
    "        return text if return_str else text.split()\n",
    "\n",
    "\n",
    "    def span_tokenize(self, text):\n",
    "\n",
    "        raw_tokens = self.tokenize(text)\n",
    "\n",
    "        # Convert converted quotes back to original double quotes\n",
    "        # Do this only if original text contains double quote(s)\n",
    "        if '\"' in text:\n",
    "            # Find double quotes and converted quotes\n",
    "            matched = [m.group() for m in re.finditer(r'[(``)(\\'\\')(\")]+', text)]\n",
    "            \n",
    "            # Replace converted quotes back to double quotes\n",
    "            tokens = [matched.pop(0) if tok in ['\"', \"``\", \"''\"] else tok for tok in raw_tokens]\n",
    "        else:\n",
    "            tokens = raw_tokens\n",
    "\n",
    "        return align_tokens(tokens, text)"
   ]
  },
  {
   "cell_type": "markdown",
   "metadata": {},
   "source": [
    "<font color= \"red\"><strong>PIPELINE</strong></font>"
   ]
  },
  {
   "cell_type": "code",
   "execution_count": 5,
   "metadata": {
    "collapsed": true
   },
   "outputs": [],
   "source": [
    "import random\n",
    "\n",
    "_treebank_word_tokenizer = TreebankWordTokenizer()\n",
    "\n",
    "\n",
    "def tokenize(sent):\n",
    "    return [token for token in _treebank_word_tokenizer.tokenize(sent)]\n",
    "\n",
    "\n",
    "\n",
    "#############################\n",
    "import collections\n",
    "from collections import defaultdict\n",
    "import pprint\n",
    "\n",
    "# fname = \"glove6B/glove.6B.100d.txt\"\n",
    "fname = \"./model/embeddings.txt\"\n",
    "num_dim = 300\n",
    "\n",
    "with open(fname) as f:\n",
    "    content = f.readlines()\n",
    "    line = [x.strip() for x in content] \n",
    "\n",
    "    word_embeddings = collections.defaultdict(lambda: collections.defaultdict(float))\n",
    "    word_embeddings_matrix = []\n",
    "\n",
    "    word_embeddings['<PAD>']['id'] = len(word_embeddings)\n",
    "    word_embeddings['<PAD>']['embedding'] = [random.uniform(0,0) for i in range(num_dim)]\n",
    "    word_embeddings_matrix.append(  word_embeddings['<PAD>']['embedding']  )\n",
    "\n",
    "    word_embeddings['<OOV>']['id'] = len(word_embeddings)\n",
    "    word_embeddings['<OOV>']['embedding'] = [random.uniform(-1,1) for i in range(num_dim)]\n",
    "    word_embeddings_matrix.append(  word_embeddings['<OOV>']['embedding']  )\n",
    "\n",
    "    for l in line:\n",
    "        items = l.split(' ')\n",
    "        word = items[0]\n",
    "        word_embeddings[word]['id'] = len(word_embeddings)\n",
    "        word_embeddings[word]['embedding'] = [float(x) for x in items[1:]]\n",
    "        word_embeddings_matrix.append(  word_embeddings[word]['embedding']  )\n",
    "\n",
    "    word_embeddings_matrix = np.array(word_embeddings_matrix)\n",
    "\n",
    "    # print (\"word_embeddings_matrix len: \", len(word_embeddings_matrix))\n",
    "    # print (\"word_embeddings_matrix shape: \", word_embeddings_matrix.shape)\n",
    "    # print (word_embeddings_matrix[0:1])\n",
    "    # print (word_embeddings['unk'])\n",
    "###############################\n",
    "\n",
    "def pipeline(data, vocab=None, max_sent_len_=None):\n",
    "    is_ext_vocab = True\n",
    "    if vocab is None:\n",
    "        is_ext_vocab = False\n",
    "        vocab = {'<PAD>': 0, '<OOV>': 1}\n",
    "\n",
    "    max_sent_len = -1\n",
    "    data_sentences = []\n",
    "    data_orders = []\n",
    "    for instance in data:\n",
    "        sents = []\n",
    "        for sentence in instance['story']:\n",
    "            sent = []\n",
    "            tokenized =tokenize(sentence)\n",
    "            for token in tokenized:\n",
    "                token = token.lower()\n",
    "                if token in word_embeddings:\n",
    "                    vocab[token] = len(vocab)\n",
    "                if token not in word_embeddings:\n",
    "                    token_vector = word_embeddings['<OOV>']['id']\n",
    "                else:\n",
    "                    token_vector = word_embeddings[token]['id']\n",
    "                sent.append(token_vector)\n",
    "            if len(sent) > max_sent_len:\n",
    "                max_sent_len = len(sent)\n",
    "            sents.append(sent)\n",
    "        data_sentences.append(sents)\n",
    "        data_orders.append(instance['order'])\n",
    "\n",
    "    if max_sent_len_ is not None:\n",
    "        max_sent_len = max_sent_len_\n",
    "    \n",
    "    data_len = len(data_sentences)\n",
    "    out_sentences = np.full([data_len, 5, max_sent_len], word_embeddings['<PAD>']['id'], dtype=np.int32)\n",
    "    global out \n",
    "    out = out_sentences[:]\n",
    "    \n",
    "    print ('max sent len is: ', max_sent_len)\n",
    "    \n",
    "    for i, elem in enumerate(data_sentences):\n",
    "        for j, sent in enumerate(elem):\n",
    "            if len(sent) > max_sent_len:\n",
    "                print (len(sent),\" is bigger than max len sent: \", max_sent_len)\n",
    "                out_sentences[i, j, 0:max_sent_len] = sent[0:max_sent_len]\n",
    "            else:\n",
    "                out_sentences[i, j, 0:len(sent)] = sent[0:len(sent)]\n",
    "\n",
    "    out_orders = np.array(data_orders, dtype=np.int32)\n",
    "\n",
    "    min_after_dequeue = 10000\n",
    "    _batch_size = 128\n",
    "    capacity = min_after_dequeue + 3 * _batch_size\n",
    "    out_sentences_batch, out_orders_batch = tf.train.shuffle_batch(\n",
    "          [out_sentences, out_orders], batch_size=_batch_size, capacity=capacity,\n",
    "          min_after_dequeue=min_after_dequeue)\n",
    "\n",
    "    \n",
    "    return out_sentences, out_orders, vocab"
   ]
  },
  {
   "cell_type": "code",
   "execution_count": 6,
   "metadata": {
    "ExecuteTime": {
     "end_time": "2016-12-20T12:04:59.842961",
     "start_time": "2016-12-20T12:04:57.136946"
    },
    "run_control": {
     "frozen": false,
     "read_only": false
    }
   },
   "outputs": [
    {
     "name": "stdout",
     "output_type": "stream",
     "text": [
      "max sent len is:  21\n"
     ]
    }
   ],
   "source": [
    "# convert train set to integer IDs\n",
    "train_stories, train_orders, vocab = pipeline(data_train)"
   ]
  },
  {
   "cell_type": "markdown",
   "metadata": {},
   "source": [
    "You need to make sure that the `pipeline` function returns the necessary data for your computational graph feed - the required inputs in this case, as we will call this function to process your dev and test data. If you do not make sure that the same pipeline applied to the train set is applied to other datasets, your model may not work with that data!"
   ]
  },
  {
   "cell_type": "code",
   "execution_count": 7,
   "metadata": {
    "ExecuteTime": {
     "end_time": "2016-12-20T12:04:59.925263",
     "start_time": "2016-12-20T12:04:59.844598"
    },
    "run_control": {
     "frozen": false,
     "read_only": false
    }
   },
   "outputs": [
    {
     "name": "stdout",
     "output_type": "stream",
     "text": [
      "max sent len is:  21\n"
     ]
    }
   ],
   "source": [
    "# get the length of the longest sentence\n",
    "max_sent_len = train_stories.shape[2]\n",
    "\n",
    "# convert dev set to integer IDs, based on the train vocabulary and max_sent_len\n",
    "dev_stories, dev_orders, _ = pipeline(data_dev, vocab, max_sent_len_=max_sent_len)"
   ]
  },
  {
   "cell_type": "markdown",
   "metadata": {},
   "source": [
    "You can take a look at the result of the `pipeline` with the `show_data_instance` function to make sure that your data loaded correctly:"
   ]
  },
  {
   "cell_type": "code",
   "execution_count": 8,
   "metadata": {
    "ExecuteTime": {
     "end_time": "2016-12-20T12:04:59.954655",
     "start_time": "2016-12-20T12:04:59.926701"
    },
    "run_control": {
     "frozen": false,
     "read_only": false
    }
   },
   "outputs": [
    {
     "name": "stdout",
     "output_type": "stream",
     "text": [
      "Input:\n",
      " Story:\n",
      "  <OOV> <OOV> <OOV> <OOV> <OOV> <OOV> <OOV> <OOV> <OOV> <OOV> <OOV> <OOV> <OOV> <OOV>\n",
      "  <OOV> <OOV> <OOV> <OOV> <OOV> <OOV> rhinestones <OOV>\n",
      "  rhinestones <OOV> <OOV> <OOV> <OOV> <OOV> <OOV> <OOV> <OOV> <OOV> <OOV> <OOV> <OOV>\n",
      "  <OOV> <OOV> <OOV> <OOV> <OOV> <OOV> <OOV> <OOV> <OOV> <OOV> <OOV> <OOV>\n",
      "  <OOV> <OOV> <OOV> <OOV> <OOV> <OOV> <OOV> <OOV> <OOV> <OOV> <OOV>\n",
      " Order:\n",
      "  [1 4 0 2 3]\n",
      "\n",
      "Desired story:\n",
      "  rhinestones <OOV> <OOV> <OOV> <OOV> <OOV> <OOV> <OOV> <OOV> <OOV> <OOV> <OOV> <OOV>\n",
      "  <OOV> <OOV> <OOV> <OOV> <OOV> <OOV> <OOV> <OOV> <OOV> <OOV> <OOV> <OOV> <OOV> <OOV>\n",
      "  <OOV> <OOV> <OOV> <OOV> <OOV> <OOV> <OOV> <OOV> <OOV> <OOV> <OOV> <OOV>\n",
      "  <OOV> <OOV> <OOV> <OOV> <OOV> <OOV> <OOV> <OOV> <OOV> <OOV> <OOV>\n",
      "  <OOV> <OOV> <OOV> <OOV> <OOV> <OOV> rhinestones <OOV>\n"
     ]
    }
   ],
   "source": [
    "nn.show_data_instance(dev_stories, dev_orders, vocab, 1870)"
   ]
  },
  {
   "cell_type": "markdown",
   "metadata": {},
   "source": [
    "### Model\n",
    "\n",
    "The model we provide is a rudimentary, non-optimised model that essentially represents every word in a sentence with a fixed vector, sums these vectors up (per sentence) and puts a softmax at the end which aims to guess the order of sentences independently.\n",
    "\n",
    "First we define the model parameters:"
   ]
  },
  {
   "cell_type": "code",
   "execution_count": 9,
   "metadata": {
    "ExecuteTime": {
     "end_time": "2016-12-20T12:04:59.966529",
     "start_time": "2016-12-20T12:04:59.956638"
    },
    "collapsed": true,
    "run_control": {
     "frozen": false,
     "read_only": false
    }
   },
   "outputs": [],
   "source": [
    "word_vector_matrix = []\n",
    "word_vector_matrix = word_embeddings_matrix\n",
    "### MODEL PARAMETERS ###\n",
    "target_size = 5\n",
    "vocab_size = word_vector_matrix.shape[0]\n",
    "input_size = word_vector_matrix.shape[1]\n",
    "output_size = 5"
   ]
  },
  {
   "cell_type": "markdown",
   "metadata": {},
   "source": [
    "and then we define the model"
   ]
  },
  {
   "cell_type": "markdown",
   "metadata": {},
   "source": [
    "<font color='red' ><strong>LSTM SENTENCE WISE</strong></font>"
   ]
  },
  {
   "cell_type": "code",
   "execution_count": 10,
   "metadata": {
    "collapsed": true
   },
   "outputs": [],
   "source": [
    "from tensorflow.contrib import rnn\n",
    "learning_rate = 0.01\n",
    "num_hidden = 128\n",
    "num_features = 64\n",
    "timesteps = max_sent_len\n",
    "lstm_output_size = 64\n",
    "\n",
    "class BasicRNN():\n",
    "    def __init__(self,num_hidden, num_features, timesteps ):\n",
    "        self.num_hidden = num_hidden \n",
    "        self.num_features = num_features\n",
    "        self.timesteps = timesteps\n",
    "\n",
    "\n",
    "        self.weights = {\n",
    "            'out': tf.Variable(tf.random_normal([self.num_hidden, self.num_features]))\n",
    "        }\n",
    "        self.biases = {\n",
    "            'out': tf.Variable(tf.random_normal([self.num_features]))\n",
    "        }\n",
    "\n",
    "    def lstm_cell(self):\n",
    "          return rnn.BasicLSTMCell(self.num_hidden, forget_bias=1.0)\n",
    "\n",
    "    def buildRNN(self, x):\n",
    "        # Forward direction cell\n",
    "\n",
    "        rnn_cell = rnn.MultiRNNCell([self.lstm_cell() for _ in range(4)])\n",
    "        #x = tf.unstack(x, self.timesteps, 1) \n",
    "        # x = timesteps x batch_size x input_size\n",
    "        outputs, states = rnn.static_rnn(rnn_cell, x, dtype=tf.float32)\n",
    "\n",
    "        return tf.matmul(outputs[-1], self.weights['out']) + self.biases['out']\n",
    "\n",
    "    def buildBidirectionalRNN (self, x):\n",
    "        # Forward direction cell\n",
    "        lstm_fw_cell = rnn.BasicLSTMCell(num_hidden, forget_bias=1.0)\n",
    "        # Backward direction cell\n",
    "        lstm_bw_cell = rnn.BasicLSTMCell(num_hidden, forget_bias=1.0)\n",
    "        # Get lstm cell output\n",
    "        try:\n",
    "            outputs, _, _ = rnn.static_bidirectional_rnn(lstm_fw_cell, lstm_bw_cell, x,\n",
    "                                                  dtype=tf.float32)\n",
    "        except Exception: # Old TensorFlow version only returns outputs not states\n",
    "            outputs = rnn.static_bidirectional_rnn(lstm_fw_cell, lstm_bw_cell, x,\n",
    "                                            dtype=tf.float32)\n",
    "        outs = []\n",
    "        for output in outputs:\n",
    "             outs.append( tf.matmul(output, self.bi_weights['out']) + self.biases['out'])\n",
    "        return outs\n",
    "        \n",
    "    def buildDynaimcRNN(self, x, batch_size):\n",
    "        \n",
    "        lstm_cell = tf.contrib.rnn.BasicLSTMCell(self.num_hidden)\n",
    "        outputs, states = tf.contrib.rnn.static_rnn(lstm_cell, x, dtype=tf.float32,\n",
    "                                sequence_length=self.seqlen)\n",
    "#         outputs = tf.stack(outputs)\n",
    "#         outputs = tf.transpose(outputs, [1, 0, 2])\n",
    "#         # Hack to build the indexing and retrieve the right output.\n",
    "#         batch_size = tf.shape(outputs)[0]\n",
    "#         # Start indices for each sample\n",
    "#         index = tf.range(0, batch_size) * self.timesteps + (self.seqlen - 1)\n",
    "#         # Indexing\n",
    "#         outputs = tf.gather(tf.reshape(outputs, [-1, self.num_hidden]), index)\n",
    "        outputs = tf.reshape(tf.stack(outputs), [-1, lstm_cell.output_size])\n",
    "#         num_partitions = 2\n",
    "#         res_out = tf.dynamic_partition(outputs, self.partitions, num_partitions)\n",
    "        # Linear activation, using outputs computed above\n",
    "        return tf.matmul(outputs, self.weights['out']) + self.biases['out']\n",
    "    "
   ]
  },
  {
   "cell_type": "code",
   "execution_count": 11,
   "metadata": {
    "ExecuteTime": {
     "end_time": "2016-12-20T12:05:00.995336",
     "start_time": "2016-12-20T12:04:59.968153"
    },
    "collapsed": true,
    "run_control": {
     "frozen": false,
     "read_only": false
    }
   },
   "outputs": [],
   "source": [
    "beta = 0.1\n",
    "\n",
    "### MODEL ###\n",
    "tf.reset_default_graph()\n",
    "tf.initialize_all_variables()\n",
    "\n",
    "\n",
    "## PLACEHOLDERS\n",
    "story = tf.placeholder(tf.int64, [None, None, None], \"story\")        # [batch_size x 5 x max_length]\n",
    "order = tf.placeholder(tf.int64, [None, None], \"order\")              # [batch_size x 5]\n",
    "\n",
    "batch_size = tf.shape(story)[0]\n",
    "\n",
    "sentences = [tf.reshape(x, [batch_size, -1]) for x in tf.split(axis=1, num_or_size_splits=5, value=story)]  # 5 times [batch_size x max_length]\n",
    "\n",
    "# Word embeddings\n",
    "initializer = tf.constant_initializer(word_vector_matrix)\n",
    "embeddings = tf.get_variable(\"W\", [vocab_size, input_size], initializer=initializer)\n",
    "\n",
    "sentences_embedded = [tf.nn.embedding_lookup(embeddings, sentence)   # 5 * [batch_size x max_seq_length x input_size]\n",
    "                      for sentence in sentences]\n",
    "\n",
    "basicRNN = BasicRNN(num_hidden, num_features, timesteps )\n",
    "\n",
    "# x [batch_size*5, input_size]\n",
    "\n",
    "to_single_sentence = tf.concat(sentences_embedded , axis = 0)\n",
    "\n",
    "x =  tf.unstack(to_single_sentence, timesteps, 1)\n",
    "\n",
    "\n",
    "# lstmOutput  [batch_size*5, output_size]\n",
    "lstmOutput = basicRNN.buildRNN( x )\n",
    "\n",
    "# separate lstmOutput 5x[batch_size, output_size]\n",
    "hs = tf.reshape(lstmOutput,[5, -1, lstm_output_size] )\n",
    "hs_transpose = tf.transpose(hs, [1,0,2])\n",
    "\n",
    "hs_reshape = tf.reshape(hs_transpose, [-1, 5*lstm_output_size]) #[batch_size, 5*output]\n",
    "\n",
    "logits_flat = tf.contrib.layers.linear(hs_reshape, 5 * target_size)    # [batch_size x 5*target_size]\n",
    "logits = tf.reshape(logits_flat, [-1, 5, target_size])        # [batch_size x 5 x target_size]\n",
    "\n",
    "# loss + regularization\n",
    "regularizer = tf.nn.l2_loss(embeddings)\n",
    "loss = tf.reduce_sum(tf.nn.sparse_softmax_cross_entropy_with_logits(logits=logits, labels=order))\n",
    "loss = tf.reduce_mean(loss + beta * regularizer)\n",
    "\n",
    "# prediction function\n",
    "unpacked_logits = [tensor for tensor in tf.unstack(logits, axis=1)]\n",
    "softmaxes = [tf.nn.softmax(tensor) for tensor in unpacked_logits]\n",
    "softmaxed_logits = tf.stack(softmaxes, axis=1)\n",
    "predict = tf.arg_max(softmaxed_logits, 2)\n"
   ]
  },
  {
   "cell_type": "code",
   "execution_count": 12,
   "metadata": {
    "collapsed": true
   },
   "outputs": [],
   "source": [
    "# sent2vec codes\n",
    "# a = tf.reshape(lstmOutput, [5,-1,64])\n",
    "# sentence_to_vec = tf.unstack(a, 5, 0)\n",
    "\n",
    "# # 5 x [batch x output_size]\n",
    "# sent_lstmOutput = basicRNN.buildBidirectionalRNN( sentence_to_vec )\n",
    "\n",
    "# hs_reshape = tf.concat(sent_lstmOutput, axis = 1)\n"
   ]
  },
  {
   "cell_type": "markdown",
   "metadata": {},
   "source": [
    "We built our model, together with the loss and the prediction function, all we are left with now is to build an optimiser on the loss:"
   ]
  },
  {
   "cell_type": "code",
   "execution_count": 13,
   "metadata": {
    "ExecuteTime": {
     "end_time": "2016-12-20T12:05:01.184409",
     "start_time": "2016-12-20T12:05:00.997016"
    },
    "collapsed": true,
    "run_control": {
     "frozen": false,
     "read_only": false
    }
   },
   "outputs": [],
   "source": [
    "#opt_op = tf.train.AdamOptimizer(0.01).minimize(loss)"
   ]
  },
  {
   "cell_type": "markdown",
   "metadata": {},
   "source": [
    "### Model training \n",
    "\n",
    "We defined the preprocessing pipeline, set the model up, so we can finally train the model"
   ]
  },
  {
   "cell_type": "code",
   "execution_count": 14,
   "metadata": {
    "ExecuteTime": {
     "end_time": "2016-12-20T12:05:54.615600",
     "start_time": "2016-12-20T12:05:01.186008"
    },
    "collapsed": true,
    "run_control": {
     "frozen": false,
     "read_only": false
    }
   },
   "outputs": [],
   "source": [
    "# BATCH_SIZE = 25\n",
    "\n",
    "# with tf.Session() as sess:\n",
    "#     sess.run(tf.initialize_all_variables())\n",
    "#     n = train_stories.shape[0]\n",
    "\n",
    "#     for epoch in range(5):\n",
    "#         print('----- Epoch', epoch, '-----')\n",
    "#         total_loss = 0\n",
    "#         for i in range(n // BATCH_SIZE):\n",
    "#             inst_story = train_stories[i * BATCH_SIZE: (i + 1) * BATCH_SIZE]\n",
    "#             inst_order = train_orders[i * BATCH_SIZE: (i + 1) * BATCH_SIZE]\n",
    "#             feed_dict = {story: inst_story, order: inst_order}\n",
    "#             _, current_loss = sess.run([opt_op, loss], feed_dict=feed_dict)\n",
    "#             total_loss += current_loss\n",
    "\n",
    "#         print(' Train loss:', total_loss / n)\n",
    "\n",
    "# #         train_feed_dict = {story: train_stories, order: train_orders}\n",
    "# #         train_predicted = sess.run(predict, feed_dict=train_feed_dict)\n",
    "# #         train_accuracy = nn.calculate_accuracy(train_orders, train_predicted)\n",
    "# #         print(' Train accuracy:', train_accuracy)\n",
    "        \n",
    "#         dev_feed_dict = {story: dev_stories, order: dev_orders}\n",
    "#         dev_predicted = sess.run(predict, feed_dict=dev_feed_dict)\n",
    "#         dev_accuracy = nn.calculate_accuracy(dev_orders, dev_predicted)\n",
    "#         print(' Dev accuracy:', dev_accuracy)\n",
    "\n",
    "        \n",
    "    \n",
    "#     nn.save_model(sess)"
   ]
  },
  {
   "cell_type": "markdown",
   "metadata": {},
   "source": [
    "## <font color='red'>Assessment 1</font>: Assess Accuracy (40 pts) \n",
    "\n",
    "We assess how well your model performs on an unseen test set. We will look at the accuracy of the predicted sentence order, on sentence level, and will score them as followis:\n",
    "\n",
    "* 0 - 10 pts: 45% <= accuracy < 50%, linear\n",
    "* 10 - 20 pts: 50% <= accuracy < 55, linear\n",
    "* 20 - 40 pts: 55 <= accuracy < 60, linear\n",
    "* extra 0-10 pts: 60 <= accuracy < 70, linear\n",
    "\n",
    "The **linear** mapping maps any accuracy value between the lower and upper bound linearly to a score. For example, if your model's accuracy score is $acc=54.5\\%$, then your score is $10 + 10\\frac{acc-50}{55-50}$."
   ]
  },
  {
   "cell_type": "markdown",
   "metadata": {
    "collapsed": true
   },
   "source": [
    "Change the following lines so that they construct the test set in the same way you constructed the dev set in the code above. We will insert the test set instead of the dev set here. **`test_feed_dict` variable must stay named the same**."
   ]
  },
  {
   "cell_type": "code",
   "execution_count": 15,
   "metadata": {
    "ExecuteTime": {
     "end_time": "2016-12-20T12:05:54.755730",
     "start_time": "2016-12-20T12:05:54.617471"
    },
    "run_control": {
     "frozen": false,
     "read_only": false
    }
   },
   "outputs": [
    {
     "name": "stdout",
     "output_type": "stream",
     "text": [
      "max sent len is:  21\n"
     ]
    }
   ],
   "source": [
    "# LOAD THE DATA\n",
    "data_test = nn.load_corpus(data_path + \"dev.tsv\")\n",
    "# make sure you process this with the same pipeline as you processed your dev set\n",
    "test_stories, test_orders, _ = pipeline(data_test, vocab=vocab, max_sent_len_=max_sent_len)\n",
    "f\n",
    "# THIS VARIABLE MUST BE NAMED `test_feed_dict`\n",
    "test_feed_dict = {story: test_stories, order: test_orders}"
   ]
  },
  {
   "cell_type": "markdown",
   "metadata": {},
   "source": [
    "The following code loads your model, computes accuracy, and exports the result. **DO NOT** change this code."
   ]
  },
  {
   "cell_type": "code",
   "execution_count": 16,
   "metadata": {
    "ExecuteTime": {
     "end_time": "2016-12-20T12:05:55.116609",
     "start_time": "2016-12-20T12:05:54.758571"
    },
    "run_control": {
     "frozen": false,
     "read_only": false
    }
   },
   "outputs": [
    {
     "data": {
      "text/plain": [
       "0.56098343132014961"
      ]
     },
     "execution_count": 16,
     "metadata": {},
     "output_type": "execute_result"
    }
   ],
   "source": [
    "#! ASSESSMENT 1 - DO NOT CHANGE, MOVE NOR COPY\n",
    "with tf.Session() as sess:\n",
    "    # LOAD THE MODEL\n",
    "    saver = tf.train.Saver()\n",
    "    saver.restore(sess, './model/model.checkpoint')\n",
    "    \n",
    "    # RUN TEST SET EVALUATION\n",
    "    dev_predicted = sess.run(predict, feed_dict=test_feed_dict)\n",
    "    dev_accuracy = nn.calculate_accuracy(dev_orders, dev_predicted)\n",
    "\n",
    "dev_accuracy"
   ]
  },
  {
   "cell_type": "markdown",
   "metadata": {},
   "source": [
    "## <font color='orange'>Mark</font>:  Your solution to Task 1 is marked with ** __ points**. \n",
    "---"
   ]
  },
  {
   "cell_type": "markdown",
   "metadata": {},
   "source": [
    "## <font color='blue'>Task 2</font>: Describe your Approach\n",
    "\n",
    "Enter a 1000 words max description of your approach **in this cell**.\n",
    "Make sure to provide:\n",
    "- an **error analysis** of the types of errors your system makes\n",
    "- compare your system with the model we provide, focus on differences and draw useful comparations between them\n",
    "\n",
    "Should you need to include figures in your report, make sure they are Python-generated (matplotlib, seaborn, bokeh are all included in the stat-nlp-book Docker image). For that, feel free to create new cells after this cell (before Assessment 2 cell). Link online images at your risk."
   ]
  },
  {
   "cell_type": "markdown",
   "metadata": {},
   "source": [
    "   ## Error Analysis:\n",
    "\n",
    "### Limitation of Our LSTM Model\n",
    "In the current model we are using 4 layers of LSTM followed by a dense layer with a softmax function to predict the order number of the sentence. The problem with this method is that each sentence is handled independently and has to be given an order number (0,1,2,3,4).  Therefore, the other sentences in that same story are not considered during the classification problem and top accuracies won’t be achieved via this method since when predicting a story, all the other sentences in that story also has to be taken into account inside the model.\n",
    "\n",
    "### Possible Better Model\n",
    "A better way is to use a seq2seq model to fix this issue. Where the 5 sentences are passed into an RNN encoder to represent it as a context vector. Each sentence has a \"START\" and \"STOP\" token tag added to the beggining and ending of it respectively. We then use another RNN decoder to decode this context vector into an ouput sequence (order).\n",
    "\n",
    "\n",
    "### Cases of Low Accurancy\n",
    "When looking at the order of the sentences predicted for a story, we realized that there were two majority cases where incorrect orders were predicted for a story:\n",
    "\n",
    "##### 1) OOV\n",
    "In the cases were there were a lot of OOV tokens (words that we did not have an embedding for), the model could not predict the order of the sentences very well. We noticed that many of these tokens were either rare vocabulary words used or person names. In general one could replace these names or websites with \"NAME\" tags and then assign a vector representation for the tags rather than for each individual names. For the rare vocabulary words, a simple way is to extend our word embedding to contain more words.\n",
    "\n",
    "##### 2) PAD\n",
    "For sentences which involved a lot of \"PADDING\" tags at the end of it, the model was also very likely to predict the wrong sequence of orders for the story sentences. One solution to this is to use bucketing to group sentences of different lengths together. When we implemented the seq2seq model using Keras to get the 58% dev set accuracy, this wasn’t a problem because only the end of the story (5 sentences) were \"PADDED\" and not each individual sentence. Unfortunately, the seq2seq model was implemented using an add-on to keras and we couldn't make the pure tensorflow implementation working.\n",
    "\n",
    "##### 3) Mis-spelling\n",
    "Another minor issue for the existance of OOV tokens was that a lot of training words/tokens had spelling mistakes (like \"saddly”, “sandwhich”, “neiter”). Since these words don’t exist in the GloVe word embeddings, they will get the embedding of the “OOV” token. If a script was ran during pre-processing to spell-check and correct these tokens, better results might have been achieved.\n"
   ]
  },
  {
   "cell_type": "code",
   "execution_count": 17,
   "metadata": {},
   "outputs": [
    {
     "data": {
      "image/png": "[encoded data removed]",
      "text/plain": [
       "<matplotlib.figure.Figure at 0x7f6f8939dcc0>"
      ]
     },
     "metadata": {},
     "output_type": "display_data"
    }
   ],
   "source": [
    "import matplotlib.pyplot as plt;from matplotlib.ticker import MaxNLocator;from collections import namedtuple;n_groups = 5;means_men = (220, 340, 604, 247, 65);fig, ax = plt.subplots();index = np.arange(n_groups);bar_width = 0.35;opacity = 0.4;error_config = {'ecolor': '0.3'};rects1 = ax.bar(index, means_men, bar_width,alpha=opacity, color='b', error_kw=error_config,label='dev');ax.set_xlabel('order label');ax.set_ylabel('Scores');ax.set_title('number of data sample');ax.set_xticks(index + bar_width / 2);ax.set_xticklabels(('0', '1', '2', '3', '4'));ax.legend();fig.tight_layout();plt.show()"
   ]
  },
  {
   "cell_type": "markdown",
   "metadata": {},
   "source": [
    "The figure shows which the wrong prediction the model makes for each of the order label. As we can see, the \"2\" label gets the worest result. "
   ]
  },
  {
   "cell_type": "code",
   "execution_count": 18,
   "metadata": {},
   "outputs": [
    {
     "data": {
      "image/png": "[encoded data removed]",
      "text/plain": [
       "<matplotlib.figure.Figure at 0x7f6f862b0e80>"
      ]
     },
     "metadata": {},
     "output_type": "display_data"
    }
   ],
   "source": [
    "import matplotlib.pyplot as plt;from matplotlib.ticker import MaxNLocator;from collections import namedtuple;n_groups = 5;means_men = (2041, 2299, 1131, 1858, 2026);fig, ax = plt.subplots();index = np.arange(n_groups);bar_width = 0.35;opacity = 0.4;error_config = {'ecolor': '0.3'};rects1 = ax.bar(index, means_men, bar_width,alpha=opacity, color='b', error_kw=error_config,label='dev');ax.set_xlabel('order label');ax.set_ylabel('Scores');ax.set_title('number of data sample');ax.set_xticks(index + bar_width / 2);ax.set_xticklabels(('0', '1', '2', '3', '4'));ax.legend();fig.tight_layout();plt.show()"
   ]
  },
  {
   "cell_type": "markdown",
   "metadata": {},
   "source": [
    "This figure shows how many predictions the model makes for each order label. As it shows, the result corresponds to the previous figure, the model is not confident in making prediction on label \"2\""
   ]
  },
  {
   "cell_type": "markdown",
   "metadata": {},
   "source": [
    "## Model Explanation:\n",
    "\n",
    "Improvement We Made Based on the Provided Model\n",
    "\n",
    "### Pre-processing\n",
    "\n",
    "* Tokenization\n",
    "\n",
    "The tokenization provided in the original code only split by white spaces “ “. But that is not a good tokenization because for example “the.” and “the” are considered different tokens because of the period sign.\n",
    "We created our tokenization method based on the \n",
    "    - twitter tree bank tokenizer. \n",
    "We added:\n",
    "    - Time \n",
    "    - Data\n",
    "    - Garbled text (\\x1a) \n",
    "    - URL \n",
    "\n",
    "*  Word Embeddings\n",
    "\n",
    "For the story ordering problem, we need word embeddings as input to our model. This can either be pre-trained like GloVe or Word2Vec embeddings or can be trained using unsupervised learning using the training stories we have (their texts). However in the provided model, neither is done. A word embedding matrix is randomly intitialized with values which is inherently non-sense if used within a model.\n",
    "\n",
    "We took 1.6B 300-D word embeddings from GloVe and only included the words which appeared in the training set. We also added two word embeddings:\n",
    "    - <PAD> was a 300D all 0 vectors\n",
    "    - <OOV> was a randomly initialized vector. \n",
    "The 1.6 Billion word 300-D word embeddings was narrowed down to only contain words in the training set. (This was ran on AWS due to the large size of the file)\n",
    "\n",
    "### Model\n",
    "\n",
    "* Model Composition\n",
    "\n",
    "    In the original codes, there's only one dense layer, and the model takes the sum of sentence vector to learning the pattern. This model does not ultilize the features of sentences and words, so it gives low accurance. By analyzing the characteriscts of this story ordering task, we decided to apply rnn and lstm on the sentences to learning their patterns. We feed sentences to the static_rnn with lstm cells, and pass the result to the dense layer for the final classification process. Here's our detailed implementation:\n",
    "\n",
    "    - LSTM: tensorflow BasicLSTM Cell\n",
    "    - Stacked StaticRNN with 4 LSTM Cells \n",
    "    - Fully-Connected Layer\n",
    "      A Fully-connected layer is added to the network to give the output result.\n",
    "    - Dropout layer added to the fully-connected layer, which can prevent the model from overfitting\n",
    "\n",
    "\n",
    "* Optimizer\n",
    "\n",
    "    In the original model, Adam Optimizer is applied, althought Adam is well-known to be the best optimizer, we tested AdadetaOptimizer to see if there's any difference.    \n",
    "    - AdamOptimizer with learning rate 0.01: \n",
    "        low train loss, converge quickly, easy to overfit\n",
    "    - AdadeltaOptimizer with learning rate 0.1: \n",
    "        high train loss, coverge slowly, not easy to overfit  \n",
    "        - The difference of the dev accuracy and training loss is illustrated in the line chart below\n",
    "   \n",
    "    \n",
    "* Regularization\n",
    "\n",
    "    We tried various regularization techniques such as recurrent dropout in the lstm layers and L2 regularizers in the word embeddings. The L2 regularizers performed better. Regularization is used to avoid overfitting and to make sure that the model generalizes on unseen data. Grid hyper-parameter search was then used to pick the best Beta value for the L2 regularizer for the embedding weights. \n",
    "    \n",
    "    - Adopted: L2 regularization is applied on the loss with beta value 0.1\n"
   ]
  },
  {
   "cell_type": "code",
   "execution_count": 19,
   "metadata": {},
   "outputs": [
    {
     "data": {
      "image/png": "[encoded data removed]",
      "text/plain": [
       "<matplotlib.figure.Figure at 0x7f6f861deeb8>"
      ]
     },
     "metadata": {},
     "output_type": "display_data"
    }
   ],
   "source": [
    "import matplotlib.patches as mpatches;orange_patch = mpatches.Patch(color='C1', label='Adadelta Dev');green_patch = mpatches.Patch(color='C2', label='Adam Dev');plt.plot([1, 2, 3, 4,5,6,7,8,9,10,11,12,13,14,15,16,17,18,19,20], [0.398,0.433,0.452,0.462,0.473,0.487,0.493,0.502,0.514,0.524,0.529,0.532,0.5356,0.5378,0.5402,  0.5463, 0.548, 0.5493,0.5509,0.5493],\"C1\",label=\"Adadelta Dev\");plt.plot([1, 2, 3, 4,5,6,7,8,9,10],[0.510, 0.527, 0.536,0.539,0.542,0.543,0.549,0.546,0.544,0.542], \"C2\",label=\"Adam Dev\");plt.ylabel('Accuracy');plt.xlabel('Training Epoch');purple_patch = mpatches.Patch(color='C4', label='Adam Train');red_patch = mpatches.Patch(color='C3', label='Adadelta Train');plt.legend(handles=[green_patch, red_patch]);plt.plot([1, 2, 3, 4,5,6,7,8,9,10,11,12,13,14,15,16,17,18,19,20], [0.45,0.50,0.51,0.529,0.535,0.543,0.550,0.557,0.562,0.565,0.570,0.573,0.576,0.580,0.583,0.587,0.592 , 0.598,0.60,0.61],\"C3\",label=\"Adadelta Train\");plt.plot([1, 2, 3, 4,5,6,7,8,9,10],[0.572, 0.601, 0.61,0.62,0.63,0.65,0.67,0.675,0.682,0.69], \"C4\",label=\"Adam Train\");plt.legend(handles=[green_patch, red_patch,purple_patch, orange_patch]);plt.show();"
   ]
  },
  {
   "cell_type": "code",
   "execution_count": 20,
   "metadata": {},
   "outputs": [
    {
     "data": {
      "image/png": "[encoded data removed]",
      "text/plain": [
       "<matplotlib.figure.Figure at 0x7f6f8621c5c0>"
      ]
     },
     "metadata": {},
     "output_type": "display_data"
    }
   ],
   "source": [
    "red_patch = mpatches.Patch(color='C1', label='Adadelta');green_patch = mpatches.Patch(color='C2', label='Adam');plt.legend(handles=[green_patch, red_patch]);plt.plot([1, 2, 3, 4,5,6,7,8,9,10,11,12,13,14,15,16,17,18,19,20], [40,37,36,35,34,33,32,31,30,29.5,28.9,27.8,24.5,23.9,22.5,22.3, 22.1, 21.9,21.12,21.23],\"C1\",label=\"Adadelta\");plt.plot([1, 2, 3, 4,5,6,7,8,9,10],[20, 11.9, 10.2,5.9,5.8,5.75,5.72,5.69,5.54,5.64], \"C2\",label=\"Adam\");plt.ylabel('Training Loss');plt.xlabel('Training Epoch');plt.show()"
   ]
  },
  {
   "cell_type": "markdown",
   "metadata": {},
   "source": [
    "     \n",
    "### Training\n",
    "\n",
    "* Early Stopping\n",
    "\n",
    "Early stopping was implemented to select and save the best model during training which gave the best dev set accuracy. This fixes the problem of having to play around with the number of epochs as a hyperparamter and saves alot of time.\n",
    "\n",
    "* Shuffle Batching\n",
    "\n",
    "We applied tensorflow shuffle batching in the pipeline in order to get more randomized data sample from the data set. \n",
    "\n",
    "* Hyper-parameter Tuning\n",
    "\n",
    "    - Optimizer Learning rate:\n",
    "     <table>\n",
    "        <tr> \n",
    "            <th>Optimizer learning rate</th>\n",
    "            <th> Highest score </th>\n",
    "        </tr>\n",
    "        <tr>\n",
    "            <td> 0.1</td>\n",
    "            <td>55.4</td>\n",
    "        </tr>\n",
    "        <tr>\n",
    "            <td> 0.01</td>\n",
    "            <td>56.0</td>\n",
    "        </tr>\n",
    "           <tr>\n",
    "            <td> 0.001</td>\n",
    "            <td>54.4</td>\n",
    "        </tr>\n",
    "        </table>\n",
    "    - Regularization rate: \n",
    "    <table>\n",
    "    <tr> \n",
    "        <th>L2 rate</th>\n",
    "        <th> Highest score </th>\n",
    "    </tr>\n",
    "    <tr>\n",
    "        <td> 0.1</td>\n",
    "        <td>56.0</td>\n",
    "    </tr>\n",
    "    <tr>\n",
    "        <td> 0.01</td>\n",
    "        <td>55.4</td>\n",
    "    </tr>\n",
    "     <tr>\n",
    "        <td> 0.001</td>\n",
    "        <td>54.9</td>\n",
    "    </tr>\n",
    "    </table>\n",
    "    \n",
    "    - Batch size:\n",
    "      we tried 32, 64, 128, 256, 512 for batch size, and we got the results showing that smaller batch size gave higher train loss, while larger batch size gave smaller train loss. With batch size 256, we can get the best result. \n",
    "       <table>\n",
    "    <tr> \n",
    "        <th> Batch size</th>\n",
    "        <th> Highest score </th>\n",
    "    </tr>\n",
    "    <tr>\n",
    "        <td> 64</td>\n",
    "        <td>53.9</td>\n",
    "    </tr>\n",
    "    <tr>\n",
    "        <td> 128</td>\n",
    "        <td>55.4</td>\n",
    "    </tr>\n",
    "     <tr>\n",
    "        <td> 256</td>\n",
    "        <td>56.1</td>\n",
    "    </tr>\n",
    "    <tr>\n",
    "        <td> 512</td>\n",
    "        <td>54.1</td>\n",
    "    </tr>\n",
    "    </table>\n",
    "    \n",
    "      \n",
    "### Other Attempts We Made\n",
    "\n",
    "* Word to Vector Model\n",
    "\n",
    "    * Bi-directional rnn\n",
    "    \n",
    "    We got 54.2 with bidirectional rnn. The possible reason is that we added padding to each of sentences, so that the forward and backward learning cannot improve the performance.\n",
    "\n",
    "    * Dynamic rnn \n",
    "    \n",
    "    Rather than padding the sentences to be the same length, we applied dynamic rnn to the sentences, but we got similiar result, 54.6. Considering the training time(dynamic rnn will locate memory each time, which is much slower than static rnn), we chose static rnn as our final model.\n",
    "\n",
    "\n",
    "* Sentence to Vector Model\n",
    "\n",
    "    Based on the sent2vec idea, we applied static rnn and bi directional rnn to each of the stories, but the highest score we got is 53.5.  \n",
    "\n",
    "    * static rnn \n",
    "    \n",
    "    * Bi-directional rnn\n",
    "\n",
    "\n",
    "* Ensemble Learning\n",
    "\n",
    "    We have implemented Sent2Vec model and Word2Vec model, and some of the predicted results differs in the two model, so that we tried to apply the idea of ensemble learning on these two models -- Besides the results that are identical in these two models, choose the result that have higher probability among the two results set, and add to the final result set. \n",
    "    \n",
    "    The final result we get is <strong> 56.1 </strong>, but the model size exceed the size limit. \n",
    "\n",
    "\n",
    "Finally, here's a table showing all the methods we tried and all the highest score we got.\n",
    "\n",
    "<table>\n",
    "    <tr>\n",
    "        <th> Model </th>\n",
    "        <th> Hyper-parameters <th>\n",
    "        <th> Highest Score </th>\n",
    "    </tr>\n",
    "    <tr>\n",
    "        <td> Static RNN + LSTM(4) </td>\n",
    "        <td> batch size: 256; learning rate: 0.1; </td>\n",
    "        <td> 56.1 </td>\n",
    "    </tr>\n",
    "    <tr>\n",
    "        <td> Bi-directional RNN + LSTM(2) </td>\n",
    "        <td> batch size: 256; learning rate: 0.01; </td>\n",
    "        <td> 54. </td>\n",
    "    </tr>\n",
    "    <tr>\n",
    "        <td> Dynamic RNN + LSTM(2) </td>\n",
    "        <td> batch size: 256; learning rate: 0.01; </td>\n",
    "        <td> 54.6 </td>\n",
    "    </tr>\n",
    "    <tr>\n",
    "        <td> Sent2Vec RNN </td>\n",
    "        <td> batch size: 256; learning rate: 0.01; </td>\n",
    "        <td> 53.5 </td>\n",
    "    </tr>\n",
    "</table>\n",
    "\n",
    "\n"
   ]
  },
  {
   "cell_type": "markdown",
   "metadata": {},
   "source": [
    "## <font color='red'>Assessment 2</font>: Assess Description (60 pts) \n",
    "\n",
    "We will mark the description along the following dimensions: \n",
    "\n",
    "* Clarity (10pts: very clear, 0pts: we can't figure out what you did, or you did nothing)\n",
    "* Creativity (25pts: we could not have come up with this, 0pts: Use only the provided model)\n",
    "* Substance (25pts: implemented complex state-of-the-art classifier, compared it to a simpler model, 0pts: Only use what is already there)"
   ]
  },
  {
   "cell_type": "markdown",
   "metadata": {},
   "source": [
    "## <font color='orange'>Mark</font>:  Your solution to Task 2 is marked with ** __ points**.\n",
    "---"
   ]
  },
  {
   "cell_type": "markdown",
   "metadata": {},
   "source": [
    "## <font color='orange'>Final mark</font>: Your solution to Assignment 3 is marked with ** __points**. "
   ]
  }
 ],
 "metadata": {
  "hide_input": false,
  "kernelspec": {
   "display_name": "Python 3",
   "language": "python",
   "name": "python3"
  },
  "language_info": {
   "codemirror_mode": {
    "name": "ipython",
    "version": 3
   },
   "file_extension": ".py",
   "mimetype": "text/x-python",
   "name": "python",
   "nbconvert_exporter": "python",
   "pygments_lexer": "ipython3",
   "version": "3.6.3"
  }
 },
 "nbformat": 4,
 "nbformat_minor": 1
}
